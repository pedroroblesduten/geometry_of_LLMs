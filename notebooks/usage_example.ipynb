{
 "cells": [
  {
   "cell_type": "code",
   "execution_count": null,
   "metadata": {},
   "outputs": [],
   "source": [
    "# Example usage\n",
    "model_llm = ModelLLM(\"meta-llama/Llama-2-7b-chat-hf\", \"./results/\")\n",
    "input_text = \"Complete o texto a seguir: tenho por dom a paixao, nas queimadas de tronco seco\"\n",
    "text = model_llm.generate_text(input_text)\n",
    "print(text)\n",
    "input_embeddings = model_llm.get_embeddings_from_input(input_text)\n",
    "print(input_embeddings.shape)\n",
    "\n",
    "\n",
    "model.generate_text('oi tudo bem')\n",
    "\n",
    "model.plot_convex_hull(text1=caminho.txt)"
   ]
  }
 ],
 "metadata": {
  "language_info": {
   "name": "python"
  }
 },
 "nbformat": 4,
 "nbformat_minor": 2
}
