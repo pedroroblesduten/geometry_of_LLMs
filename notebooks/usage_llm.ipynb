{
 "cells": [
  {
   "cell_type": "code",
   "execution_count": 1,
   "metadata": {},
   "outputs": [],
   "source": [
    "import os\n",
    "import sys\n",
    "module_path = os.path.abspath(os.path.join('..'))\n",
    "if module_path not in sys.path:\n",
    "    sys.path.append(module_path)\n",
    "\n",
    "from model_llm import ModelLLM\n",
    "\n",
    "import numpy as np\n",
    "from IPython.display import display\n",
    "import matplotlib.pyplot as plt\n",
    "from transformers import set_seed"
   ]
  },
  {
   "cell_type": "code",
   "execution_count": 2,
   "metadata": {},
   "outputs": [
    {
     "data": {
      "application/vnd.jupyter.widget-view+json": {
       "model_id": "00bd8f5be3354d74b7f15d98223152e1",
       "version_major": 2,
       "version_minor": 0
      },
      "text/plain": [
       "Loading checkpoint shards:   0%|          | 0/2 [00:00<?, ?it/s]"
      ]
     },
     "metadata": {},
     "output_type": "display_data"
    },
    {
     "name": "stderr",
     "output_type": "stream",
     "text": [
      "/home_cerberus/speed/henriquehott/conda_envs/geo/lib/python3.11/site-packages/transformers/utils/hub.py:373: FutureWarning: The `use_auth_token` argument is deprecated and will be removed in v5 of Transformers.\n",
      "  warnings.warn(\n"
     ]
    }
   ],
   "source": [
    "import torch\n",
    "\n",
    "model_llm = ModelLLM(\"meta-llama/Llama-2-7b-chat-hf\", \"./results/\", device='cuda')"
   ]
  },
  {
   "cell_type": "code",
   "execution_count": 22,
   "metadata": {},
   "outputs": [
    {
     "name": "stdout",
     "output_type": "stream",
     "text": [
      "Time elsped in seconds: 7.043851137161255\n"
     ]
    },
    {
     "data": {
      "text/plain": [
       "'As she walked, she noticed a small child running after her, a look of excitement on their face. \"Please, miss! Can I have a flower?\" the child asked, holding out their hand. Miss Murcheson couldn\\'t help but smile at the child\\'s eagerness, and she reached into her basket to give them a daffodil. The child\\'s eyes lit up with joy as they took the flower, and they thanked Miss Murcheson before running off to show their mother their new treasure. Miss Murcheson continued on her way, feeling grateful for the simple pleasures in life. As she walked, she noticed a group of people gathered around a street performer who was juggling clubs and performing tricks. The crowd cheered and clapped as the performer juggled, and Miss Murcheson couldn\\'t help but join in on the applause. She watched in awe as the performer expertly juggled three clubs at once, and she felt a sense of wonder at the skill and talent on display. As she watched, she noticed a small bird perched on a nearby streetlamp, singing a sweet melody. The bird\\'s song filled the air, mingling with the sounds of the street performer and the chatter of the crowd. It was a moment of pure joy, and Miss Murcheson felt grateful to be alive and able to experience it all. She continued on her way, feeling grateful for the simple pleasures in life and the beauty of the world around her.'"
      ]
     },
     "execution_count": 22,
     "metadata": {},
     "output_type": "execute_result"
    }
   ],
   "source": [
    "import time\n",
    "start = time.time()\n",
    "x = model_llm.generate(\"Continue the story The flower-man nodded and smiled, tucking the coins into his pocket as he handed her the daffodils. Miss Murcheson took them with a pleased smile, sniffing at the flowers as she walked away. The scent of them filled the air, mingling with the smell of freshly baked bread from the nearby bakery. It was a lovely spring day, and Miss Murcheson felt a sense of contentment wash over her as she continued on her way.\", return_embeddings=False, max_new_tokens=5000)    \n",
    "end = time.time()\n",
    "print(\"Time elsped in seconds:\", (end - start))\n",
    "x"
   ]
  },
  {
   "cell_type": "code",
   "execution_count": 16,
   "metadata": {},
   "outputs": [
    {
     "name": "stdout",
     "output_type": "stream",
     "text": [
      "370\n"
     ]
    }
   ],
   "source": [
    "print(len(x.split(' ')))"
   ]
  }
 ],
 "metadata": {
  "kernelspec": {
   "display_name": "Python 3 (ipykernel)",
   "language": "python",
   "name": "python3"
  },
  "language_info": {
   "codemirror_mode": {
    "name": "ipython",
    "version": 3
   },
   "file_extension": ".py",
   "mimetype": "text/x-python",
   "name": "python",
   "nbconvert_exporter": "python",
   "pygments_lexer": "ipython3",
   "version": "3.11.7"
  }
 },
 "nbformat": 4,
 "nbformat_minor": 4
}
